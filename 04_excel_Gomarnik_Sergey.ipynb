{
 "cells": [
  {
   "attachments": {},
   "cell_type": "markdown",
   "metadata": {},
   "source": [
    "# Работа с Excel"
   ]
  },
  {
   "attachments": {},
   "cell_type": "markdown",
   "metadata": {},
   "source": [
    "Материалы:\n",
    "* Макрушин С.В. Лекция 7: Работа с Excel\n",
    "* https://docs.xlwings.org/en/stable/quickstart.html\n",
    "* https://nbviewer.jupyter.org/github/pybokeh/jupyter_notebooks/blob/master/xlwings/Excel_Formatting.ipynb#search_text\n"
   ]
  },
  {
   "attachments": {},
   "cell_type": "markdown",
   "metadata": {},
   "source": [
    "## Задачи для совместного разбора"
   ]
  },
  {
   "attachments": {},
   "cell_type": "markdown",
   "metadata": {},
   "source": [
    "1. На листе \"Рецептура\" файла `себестоимостьА_в1.xlsx` для области \"Пшеничный хлеб\" рассчитать себестоимость всех видов продукции."
   ]
  },
  {
   "attachments": {},
   "cell_type": "markdown",
   "metadata": {},
   "source": [
    "2. Результаты расчетов 1.1 сохранить в отдельном столбце области \"Пшеничный хлеб\""
   ]
  },
  {
   "cell_type": "code",
   "execution_count": 1,
   "metadata": {},
   "outputs": [],
   "source": [
    "import xlwings as xw"
   ]
  },
  {
   "cell_type": "code",
   "execution_count": 2,
   "metadata": {},
   "outputs": [
    {
     "data": {
      "text/plain": [
       "[21.48, 16.525, 17.423000000000002, 18.085]"
      ]
     },
     "execution_count": 2,
     "metadata": {},
     "output_type": "execute_result"
    }
   ],
   "source": [
    "wb = xw.Book('./data/себестоимостьА_в1.xlsx')\n",
    "\n",
    "xw.Range(\"T7:T10\").formula = '=SUMPRODUCT(G7:O7,G$14:O$14)'\n",
    "xw.Range('T4').value = 'Себестоимость'\n",
    "xw.Range('T4').columns[0].autofit()\n",
    "xw.Range('T7:T10').value"
   ]
  },
  {
   "attachments": {},
   "cell_type": "markdown",
   "metadata": {},
   "source": [
    "3. Приблизить форматирование столбца, добавленного в задаче 2 к оформлению всей области."
   ]
  },
  {
   "cell_type": "code",
   "execution_count": 3,
   "metadata": {},
   "outputs": [],
   "source": [
    "# from appscript import k"
   ]
  },
  {
   "cell_type": "code",
   "execution_count": 4,
   "metadata": {},
   "outputs": [],
   "source": [
    "xw.Range('T4:T6').merge(across=False)\n",
    "xw.Range('S3:T3').merge(across=False)\n",
    "\n",
    "\n",
    "xw.Range('T4').color = (245, 192, 0)\n",
    "xw.Range('T7:T10').color = (255, 255, 167)\n",
    "xw.Range('T4').api.HorizontalAlignment = xw.constants.HAlign.xlHAlignCenter\n",
    "xw.Range('T4').api.VerticalAlignment = xw.constants.HAlign.xlHAlignCenter\n",
    "\n",
    "xw.Range('T4').font.color = \"#ffffff\"\n",
    "xw.Range('T4').font.bold = True\n",
    "\n",
    "xw.Range('T4:T11').api.Borders.Weight = 2\n",
    "xw.Range('T4:T10').api.Borders.Weight = 2\n",
    "# xw.Range('T4:T11').api.get_border(which_border=k.border_top).weight.set(2)\n",
    "# xw.Range('T4:T10').api.get_border(which_border=k.border_right).weight.set(2)"
   ]
  },
  {
   "attachments": {},
   "cell_type": "markdown",
   "metadata": {},
   "source": [
    "4. Выполнить 3 с помощью \"протягиваемых\" формул."
   ]
  },
  {
   "attachments": {},
   "cell_type": "markdown",
   "metadata": {},
   "source": [
    "## Лабораторная работа 7.1"
   ]
  },
  {
   "attachments": {},
   "cell_type": "markdown",
   "metadata": {},
   "source": [
    "1. Загрузите данные из файлов `reviews_sample.csv` (__ЛР2__) и `recipes_sample.csv` (__ЛР5__) в виде `pd.DataFrame`. Обратите внимание на корректное считывание столбца(ов) с индексами. Оставьте в таблице с рецептами следующие столбцы: `id`, `name`, `minutes`, `submitted`, `description`, `n_ingredients`"
   ]
  },
  {
   "cell_type": "code",
   "execution_count": 5,
   "metadata": {},
   "outputs": [],
   "source": [
    "import numpy as np\n",
    "import pandas as pd"
   ]
  },
  {
   "cell_type": "code",
   "execution_count": 57,
   "metadata": {},
   "outputs": [
    {
     "data": {
      "text/html": [
       "<div>\n",
       "<style scoped>\n",
       "    .dataframe tbody tr th:only-of-type {\n",
       "        vertical-align: middle;\n",
       "    }\n",
       "\n",
       "    .dataframe tbody tr th {\n",
       "        vertical-align: top;\n",
       "    }\n",
       "\n",
       "    .dataframe thead th {\n",
       "        text-align: right;\n",
       "    }\n",
       "</style>\n",
       "<table border=\"1\" class=\"dataframe\">\n",
       "  <thead>\n",
       "    <tr style=\"text-align: right;\">\n",
       "      <th></th>\n",
       "      <th>name</th>\n",
       "      <th>id</th>\n",
       "      <th>minutes</th>\n",
       "      <th>submitted</th>\n",
       "      <th>description</th>\n",
       "      <th>n_ingredients</th>\n",
       "    </tr>\n",
       "  </thead>\n",
       "  <tbody>\n",
       "    <tr>\n",
       "      <th>0</th>\n",
       "      <td>george s at the cove  black bean soup</td>\n",
       "      <td>44123</td>\n",
       "      <td>90</td>\n",
       "      <td>2002-10-25</td>\n",
       "      <td>an original recipe created by chef scott meska...</td>\n",
       "      <td>18.0</td>\n",
       "    </tr>\n",
       "    <tr>\n",
       "      <th>1</th>\n",
       "      <td>healthy for them  yogurt popsicles</td>\n",
       "      <td>67664</td>\n",
       "      <td>10</td>\n",
       "      <td>2003-07-26</td>\n",
       "      <td>my children and their friends ask for my homem...</td>\n",
       "      <td>NaN</td>\n",
       "    </tr>\n",
       "    <tr>\n",
       "      <th>2</th>\n",
       "      <td>i can t believe it s spinach</td>\n",
       "      <td>38798</td>\n",
       "      <td>30</td>\n",
       "      <td>2002-08-29</td>\n",
       "      <td>these were so go, it surprised even me.</td>\n",
       "      <td>8.0</td>\n",
       "    </tr>\n",
       "    <tr>\n",
       "      <th>3</th>\n",
       "      <td>italian  gut busters</td>\n",
       "      <td>35173</td>\n",
       "      <td>45</td>\n",
       "      <td>2002-07-27</td>\n",
       "      <td>my sister-in-law made these for us at a family...</td>\n",
       "      <td>NaN</td>\n",
       "    </tr>\n",
       "    <tr>\n",
       "      <th>4</th>\n",
       "      <td>love is in the air  beef fondue   sauces</td>\n",
       "      <td>84797</td>\n",
       "      <td>25</td>\n",
       "      <td>2004-02-23</td>\n",
       "      <td>i think a fondue is a very romantic casual din...</td>\n",
       "      <td>NaN</td>\n",
       "    </tr>\n",
       "    <tr>\n",
       "      <th>...</th>\n",
       "      <td>...</td>\n",
       "      <td>...</td>\n",
       "      <td>...</td>\n",
       "      <td>...</td>\n",
       "      <td>...</td>\n",
       "      <td>...</td>\n",
       "    </tr>\n",
       "    <tr>\n",
       "      <th>29995</th>\n",
       "      <td>zurie s holey rustic olive and cheddar bread</td>\n",
       "      <td>267661</td>\n",
       "      <td>80</td>\n",
       "      <td>2007-11-25</td>\n",
       "      <td>this is based on a french recipe but i changed...</td>\n",
       "      <td>10.0</td>\n",
       "    </tr>\n",
       "    <tr>\n",
       "      <th>29996</th>\n",
       "      <td>zwetschgenkuchen  bavarian plum cake</td>\n",
       "      <td>386977</td>\n",
       "      <td>240</td>\n",
       "      <td>2009-08-24</td>\n",
       "      <td>this is a traditional fresh plum cake, thought...</td>\n",
       "      <td>11.0</td>\n",
       "    </tr>\n",
       "    <tr>\n",
       "      <th>29997</th>\n",
       "      <td>zwiebelkuchen   southwest german onion cake</td>\n",
       "      <td>103312</td>\n",
       "      <td>75</td>\n",
       "      <td>2004-11-03</td>\n",
       "      <td>this is a traditional late summer early fall s...</td>\n",
       "      <td>NaN</td>\n",
       "    </tr>\n",
       "    <tr>\n",
       "      <th>29998</th>\n",
       "      <td>zydeco soup</td>\n",
       "      <td>486161</td>\n",
       "      <td>60</td>\n",
       "      <td>2012-08-29</td>\n",
       "      <td>this is a delicious soup that i originally fou...</td>\n",
       "      <td>NaN</td>\n",
       "    </tr>\n",
       "    <tr>\n",
       "      <th>29999</th>\n",
       "      <td>cookies by design   cookies on a stick</td>\n",
       "      <td>298512</td>\n",
       "      <td>29</td>\n",
       "      <td>2008-04-15</td>\n",
       "      <td>i've heard of the 'cookies by design' company,...</td>\n",
       "      <td>10.0</td>\n",
       "    </tr>\n",
       "  </tbody>\n",
       "</table>\n",
       "<p>30000 rows × 6 columns</p>\n",
       "</div>"
      ],
      "text/plain": [
       "                                               name      id  minutes  \\\n",
       "0             george s at the cove  black bean soup   44123       90   \n",
       "1                healthy for them  yogurt popsicles   67664       10   \n",
       "2                      i can t believe it s spinach   38798       30   \n",
       "3                              italian  gut busters   35173       45   \n",
       "4          love is in the air  beef fondue   sauces   84797       25   \n",
       "...                                             ...     ...      ...   \n",
       "29995  zurie s holey rustic olive and cheddar bread  267661       80   \n",
       "29996          zwetschgenkuchen  bavarian plum cake  386977      240   \n",
       "29997   zwiebelkuchen   southwest german onion cake  103312       75   \n",
       "29998                                   zydeco soup  486161       60   \n",
       "29999        cookies by design   cookies on a stick  298512       29   \n",
       "\n",
       "        submitted                                        description  \\\n",
       "0      2002-10-25  an original recipe created by chef scott meska...   \n",
       "1      2003-07-26  my children and their friends ask for my homem...   \n",
       "2      2002-08-29            these were so go, it surprised even me.   \n",
       "3      2002-07-27  my sister-in-law made these for us at a family...   \n",
       "4      2004-02-23  i think a fondue is a very romantic casual din...   \n",
       "...           ...                                                ...   \n",
       "29995  2007-11-25  this is based on a french recipe but i changed...   \n",
       "29996  2009-08-24  this is a traditional fresh plum cake, thought...   \n",
       "29997  2004-11-03  this is a traditional late summer early fall s...   \n",
       "29998  2012-08-29  this is a delicious soup that i originally fou...   \n",
       "29999  2008-04-15  i've heard of the 'cookies by design' company,...   \n",
       "\n",
       "       n_ingredients  \n",
       "0               18.0  \n",
       "1                NaN  \n",
       "2                8.0  \n",
       "3                NaN  \n",
       "4                NaN  \n",
       "...              ...  \n",
       "29995           10.0  \n",
       "29996           11.0  \n",
       "29997            NaN  \n",
       "29998            NaN  \n",
       "29999           10.0  \n",
       "\n",
       "[30000 rows x 6 columns]"
      ]
     },
     "execution_count": 57,
     "metadata": {},
     "output_type": "execute_result"
    }
   ],
   "source": [
    "recipes = pd.read_csv(\n",
    "    './data/recipes_sample.csv', \n",
    "    delimiter=',', \n",
    "    usecols=['id', 'name', 'minutes', 'submitted', 'description', 'n_ingredients']\n",
    ")\n",
    "reviews = pd.read_csv('./data/reviews_sample.csv', delimiter=',', index_col=0)\n",
    "recipes"
   ]
  },
  {
   "attachments": {},
   "cell_type": "markdown",
   "metadata": {},
   "source": [
    "2. Случайным образом выберите 5% строк из каждой таблицы и сохраните две таблицы на разные листы в один файл `recipes.xlsx`. Дайте листам названия \"Рецепты\" и \"Отзывы\", соответствующие содержанию таблиц. "
   ]
  },
  {
   "cell_type": "code",
   "execution_count": 58,
   "metadata": {},
   "outputs": [
    {
     "data": {
      "text/html": [
       "<div>\n",
       "<style scoped>\n",
       "    .dataframe tbody tr th:only-of-type {\n",
       "        vertical-align: middle;\n",
       "    }\n",
       "\n",
       "    .dataframe tbody tr th {\n",
       "        vertical-align: top;\n",
       "    }\n",
       "\n",
       "    .dataframe thead th {\n",
       "        text-align: right;\n",
       "    }\n",
       "</style>\n",
       "<table border=\"1\" class=\"dataframe\">\n",
       "  <thead>\n",
       "    <tr style=\"text-align: right;\">\n",
       "      <th></th>\n",
       "      <th>user_id</th>\n",
       "      <th>recipe_id</th>\n",
       "      <th>date</th>\n",
       "      <th>rating</th>\n",
       "      <th>review</th>\n",
       "    </tr>\n",
       "  </thead>\n",
       "  <tbody>\n",
       "    <tr>\n",
       "      <th>149986</th>\n",
       "      <td>144373</td>\n",
       "      <td>418912</td>\n",
       "      <td>2010-05-28</td>\n",
       "      <td>5</td>\n",
       "      <td>Made this for dinner last night.  Served it bo...</td>\n",
       "    </tr>\n",
       "    <tr>\n",
       "      <th>153729</th>\n",
       "      <td>71324</td>\n",
       "      <td>93223</td>\n",
       "      <td>2007-03-05</td>\n",
       "      <td>5</td>\n",
       "      <td>A great simple way to do croutons. I had some ...</td>\n",
       "    </tr>\n",
       "    <tr>\n",
       "      <th>612007</th>\n",
       "      <td>2000760542</td>\n",
       "      <td>238994</td>\n",
       "      <td>2015-12-21</td>\n",
       "      <td>5</td>\n",
       "      <td>AMAZING!  I will never make crab legs any othe...</td>\n",
       "    </tr>\n",
       "    <tr>\n",
       "      <th>337009</th>\n",
       "      <td>826306</td>\n",
       "      <td>3929</td>\n",
       "      <td>2009-06-23</td>\n",
       "      <td>3</td>\n",
       "      <td>Chicken turned out ok. I used split chicken br...</td>\n",
       "    </tr>\n",
       "    <tr>\n",
       "      <th>518809</th>\n",
       "      <td>2002252836</td>\n",
       "      <td>54715</td>\n",
       "      <td>2018-09-24</td>\n",
       "      <td>0</td>\n",
       "      <td>I understood the recipe. Or does not mean both.</td>\n",
       "    </tr>\n",
       "    <tr>\n",
       "      <th>...</th>\n",
       "      <td>...</td>\n",
       "      <td>...</td>\n",
       "      <td>...</td>\n",
       "      <td>...</td>\n",
       "      <td>...</td>\n",
       "    </tr>\n",
       "    <tr>\n",
       "      <th>162549</th>\n",
       "      <td>169430</td>\n",
       "      <td>383425</td>\n",
       "      <td>2009-08-31</td>\n",
       "      <td>5</td>\n",
       "      <td>These are so simple to put together and utterl...</td>\n",
       "    </tr>\n",
       "    <tr>\n",
       "      <th>1023638</th>\n",
       "      <td>209441</td>\n",
       "      <td>323657</td>\n",
       "      <td>2009-01-05</td>\n",
       "      <td>5</td>\n",
       "      <td>Loved this Kitty, used half ground pork and be...</td>\n",
       "    </tr>\n",
       "    <tr>\n",
       "      <th>1057397</th>\n",
       "      <td>553782</td>\n",
       "      <td>192719</td>\n",
       "      <td>2007-09-27</td>\n",
       "      <td>5</td>\n",
       "      <td>WOW!!!!!\\nAbsolutely fantastic. I love pineapp...</td>\n",
       "    </tr>\n",
       "    <tr>\n",
       "      <th>208275</th>\n",
       "      <td>665137</td>\n",
       "      <td>107150</td>\n",
       "      <td>2011-01-25</td>\n",
       "      <td>5</td>\n",
       "      <td>Elegant looking cookie with very little effort...</td>\n",
       "    </tr>\n",
       "    <tr>\n",
       "      <th>204837</th>\n",
       "      <td>29782</td>\n",
       "      <td>78938</td>\n",
       "      <td>2005-04-27</td>\n",
       "      <td>5</td>\n",
       "      <td>DH and I thought this recipe was delicious. I ...</td>\n",
       "    </tr>\n",
       "  </tbody>\n",
       "</table>\n",
       "<p>6334 rows × 5 columns</p>\n",
       "</div>"
      ],
      "text/plain": [
       "            user_id  recipe_id        date  rating  \\\n",
       "149986       144373     418912  2010-05-28       5   \n",
       "153729        71324      93223  2007-03-05       5   \n",
       "612007   2000760542     238994  2015-12-21       5   \n",
       "337009       826306       3929  2009-06-23       3   \n",
       "518809   2002252836      54715  2018-09-24       0   \n",
       "...             ...        ...         ...     ...   \n",
       "162549       169430     383425  2009-08-31       5   \n",
       "1023638      209441     323657  2009-01-05       5   \n",
       "1057397      553782     192719  2007-09-27       5   \n",
       "208275       665137     107150  2011-01-25       5   \n",
       "204837        29782      78938  2005-04-27       5   \n",
       "\n",
       "                                                    review  \n",
       "149986   Made this for dinner last night.  Served it bo...  \n",
       "153729   A great simple way to do croutons. I had some ...  \n",
       "612007   AMAZING!  I will never make crab legs any othe...  \n",
       "337009   Chicken turned out ok. I used split chicken br...  \n",
       "518809     I understood the recipe. Or does not mean both.  \n",
       "...                                                    ...  \n",
       "162549   These are so simple to put together and utterl...  \n",
       "1023638  Loved this Kitty, used half ground pork and be...  \n",
       "1057397  WOW!!!!!\\nAbsolutely fantastic. I love pineapp...  \n",
       "208275   Elegant looking cookie with very little effort...  \n",
       "204837   DH and I thought this recipe was delicious. I ...  \n",
       "\n",
       "[6334 rows x 5 columns]"
      ]
     },
     "execution_count": 58,
     "metadata": {},
     "output_type": "execute_result"
    }
   ],
   "source": [
    "recipes_5 = recipes.iloc[np.random.choice(len(recipes), int(len(recipes)*0.05), replace=False)]\n",
    "reviews_5 = reviews.iloc[np.random.choice(len(reviews), int(len(reviews)*0.05), replace=False)]\n",
    "\n",
    "writer = pd.ExcelWriter('./recipes.xlsx', engine='xlsxwriter')\n",
    "\n",
    "recipes_5.to_excel(writer, sheet_name='Рецепты', index=False)\n",
    "reviews_5.to_excel(writer, sheet_name='Отзывы')\n",
    "\n",
    "writer.close()\n",
    "\n",
    "reviews_5"
   ]
  },
  {
   "attachments": {},
   "cell_type": "markdown",
   "metadata": {},
   "source": [
    "3. Используя `xlwings`, добавьте на лист `Рецепты` столбец `seconds_assign`, показывающий время выполнения рецепта в секундах. Выполните задание при помощи присваивания массива значений диапазону ячеек."
   ]
  },
  {
   "cell_type": "code",
   "execution_count": 59,
   "metadata": {},
   "outputs": [],
   "source": [
    "wb = xw.Book('recipes.xlsx')\n",
    "sht = wb.sheets['Рецепты']\n",
    "\n",
    "sht.range('G1').value = 'seconds_assign'\n",
    "\n",
    "seconds = np.array(sht.range('C2:C1501').value)*60\n",
    "\n",
    "sht.range('G2').options(transpose=True).value = seconds"
   ]
  },
  {
   "attachments": {},
   "cell_type": "markdown",
   "metadata": {},
   "source": [
    "4. Используя `xlwings`, добавьте на лист `Рецепты` столбец `seconds_formula`, показывающий время выполнения рецепта в секундах. Выполните задание при помощи формул Excel."
   ]
  },
  {
   "cell_type": "code",
   "execution_count": 60,
   "metadata": {},
   "outputs": [],
   "source": [
    "wb = xw.Book('recipes.xlsx')\n",
    "sht = wb.sheets['Рецепты']\n",
    "\n",
    "sht.range('H1').value = 'seconds_formula'\n",
    "sht.range(\"H2:H1501\").formula = '=$C2*60'\n",
    "sht.range('H1').columns[0].autofit()"
   ]
  },
  {
   "attachments": {},
   "cell_type": "markdown",
   "metadata": {},
   "source": [
    "5. Сделайте названия всех добавленных столбцов полужирными и выровняйте по центру ячейки."
   ]
  },
  {
   "cell_type": "code",
   "execution_count": 61,
   "metadata": {},
   "outputs": [],
   "source": [
    "xw.Range('G1:H1').font.bold = True\n",
    "xw.Range('G1:H1').api.HorizontalAlignment = xw.constants.HAlign.xlHAlignCenter"
   ]
  },
  {
   "attachments": {},
   "cell_type": "markdown",
   "metadata": {},
   "source": [
    "6. Раскрасьте ячейки столбца `minutes` в соответствии со следующим правилом: если рецепт выполняется быстрее 5 минут, то цвет - зеленый; от 5 до 10 минут - жёлтый; и больше 10 - красный."
   ]
  },
  {
   "cell_type": "code",
   "execution_count": 62,
   "metadata": {},
   "outputs": [],
   "source": [
    "for cell in sht.range('C2:C1501'):\n",
    "    minute = cell.value\n",
    "    if minute < 5:\n",
    "        cell.color = (0, 255, 0)\n",
    "    elif 5 <= minute < 10:\n",
    "        cell.color = (255, 255, 0)\n",
    "    else:\n",
    "        cell.color = (255, 0, 0)       "
   ]
  },
  {
   "attachments": {},
   "cell_type": "markdown",
   "metadata": {},
   "source": [
    "7. Добавьте на лист `Рецепты`  столбец `n_reviews`, содержащий кол-во отзывов для этого рецепта. Выполните задание при помощи формул Excel."
   ]
  },
  {
   "cell_type": "code",
   "execution_count": 63,
   "metadata": {},
   "outputs": [],
   "source": [
    "sht_reviews = wb.sheets['Отзывы']\n",
    "\n",
    "sht.range('I1').value = 'n_reviews'\n",
    "sht.range('I2:I1501').formula = '=COUNTIF(Отзывы!C:C,B2)'"
   ]
  },
  {
   "attachments": {},
   "cell_type": "markdown",
   "metadata": {},
   "source": [
    "## Лабораторная работа 7.2"
   ]
  },
  {
   "attachments": {},
   "cell_type": "markdown",
   "metadata": {},
   "source": [
    "8. Напишите функцию `validate()`, которая проверяет соответствие всех строк из листа `Отзывы` следующим правилам:\n",
    "    * Рейтинг - это число от 0 до 5 включительно\n",
    "    * Соответствующий рецепт имеется на листе `Рецепты`\n",
    "    \n",
    "В случае несоответствия этим правилам, выделите строку красным цветом"
   ]
  },
  {
   "cell_type": "code",
   "execution_count": 64,
   "metadata": {},
   "outputs": [],
   "source": [
    "def validate(rating, id_review, recipe_id_set):\n",
    "    return (rating <= 0 or rating >= 5) and id_review not in recipe_id_set\n",
    "\n",
    "recipe_id_set = sht.range('B2:B1501').value\n",
    "\n",
    "for i in range(2, 1502):\n",
    "    if validate(sht_reviews.range(f'E{i}').value, sht_reviews.range(f'C{i}').value, recipe_id_set):\n",
    "        sht_reviews.range(f'B{i}:F{i}').color = (255, 0, 0)\n"
   ]
  },
  {
   "attachments": {},
   "cell_type": "markdown",
   "metadata": {},
   "source": [
    "9. В файле `recipes_model.csv` находится модель данных предметной области \"рецепты\". При помощи пакета `csv` считайте эти данные. При помощи пакета `xlwings` запишите данные на лист `Модель` книги `recipes_model.xlsx`, начиная с ячейки `A2`, не используя циклы. Сделайте скриншот текущего состояния листа и прикрепите в ячейку ноутбука. "
   ]
  },
  {
   "cell_type": "code",
   "execution_count": 65,
   "metadata": {},
   "outputs": [],
   "source": [
    "import csv"
   ]
  },
  {
   "cell_type": "code",
   "execution_count": 66,
   "metadata": {},
   "outputs": [],
   "source": [
    "with open(\"./data/recipes_model.csv\", encoding=\"utf-8\") as csv_file:\n",
    "    csv_reader = csv.reader(csv_file, delimiter=\"\\t\")\n",
    "    wb = xw.Book(\"recipes.xlsx\")\n",
    "    sht = wb.sheets.add(\"Модель\")\n",
    "    sht.range(\"A2\").value = list(csv_reader)"
   ]
  },
  {
   "cell_type": "markdown",
   "metadata": {},
   "source": [
    "![image.png](screenshots/screen1.jpg)"
   ]
  },
  {
   "attachments": {},
   "cell_type": "markdown",
   "metadata": {},
   "source": [
    "10. При помощи пакета `xlwings` добавьте в столбец J формулу для описания столбца на языке SQL. Формула должна реализовывать следующую логику:\n",
    "\n",
    "    1\\. в начале строки идут значения из столбцов В и C (значение столбца С приведено к верхнему регистру), разделенные пробелом\n",
    "    \n",
    "    2\\. далее идут слова на основе столбца \"Ключ\"\n",
    "        2.1 если в столбце \"Ключ\" указано значение \"PK\", то дальше через пробел идет ключевое слово \"PRIMARY KEY\"\n",
    "        2.2 если в столбце \"Ключ\" указано значение \"FK\", то дальше через пробел идет ключевое слово \"REFERENCES\", затем значения столбцов H и I в формате \"название_таблицы(название_столбца)\"\n",
    "        \n",
    "    3\\. если в столбце \"Обязательно к заполнению\" указано значение \"Y\" и в столбце \"Ключ\" указано не \"PK\", то дальше через пробел идет ключевое слово \"NOT NULL\".\n",
    "\n",
    "Заполните этой формулой необходимое количество строк, используя \"протягивание\". Количество строк для протягивания определите на основе данных.\n",
    "\n",
    "Сделайте скриншот текущего состояния листа и прикрепите в ячейку ноутбука."
   ]
  },
  {
   "cell_type": "code",
   "execution_count": 72,
   "metadata": {},
   "outputs": [],
   "source": [
    "wb = xw.Book(\"recipes.xlsx\")\n",
    "sht = wb.sheets[\"Модель\"]\n",
    "last_row = sht.api.UsedRange.Rows.Count\n",
    "formula = (\n",
    "    '=CONCATENATE(B2, \" \", UPPER(C2), '\n",
    "    'IF(G2 = \"PK\", \" PRIMARY KEY \",'\n",
    "    'IF(G2 = \"FK\", CONCATENATE(\"REFERENCES \", H2, \"(\", I2, \")\"), \"\")),'\n",
    "    'IF(AND(G2 <> \"PK\", D2=\"Y\"), \" NOT NULL \", \"\"))'\n",
    ")\n",
    "sht.range(f\"J2:J{last_row + 1}\").formula = formula"
   ]
  },
  {
   "cell_type": "markdown",
   "metadata": {},
   "source": [
    "![image.png](screenshots/screen2.jpg)"
   ]
  },
  {
   "attachments": {},
   "cell_type": "markdown",
   "metadata": {},
   "source": [
    "11. При помощи пакета `xlwings` измените стилизацию листа `Модель`.\n",
    "* для заголовков добавьте заливку цвета `00ccff`\n",
    "* примените автоподбор ширины столбца;\n",
    "* сделайте шрифт заголовков полужирным;\n",
    "* добавьте таблице автофильтр.\n",
    "\n",
    "Сделайте скриншот текущего состояния листа и прикрепите в ячейку ноутбука."
   ]
  },
  {
   "cell_type": "code",
   "execution_count": 73,
   "metadata": {},
   "outputs": [],
   "source": [
    "sht.range('A1:J1').value = ['Таблица','Атрибут','Тип данных','Обязательно',\n",
    "                            'Таблица (ru)','Атрибут (ru)',\n",
    "                            'Ключ','Ссылочная таблица','Ссылочный ключ','SQL']\n",
    "\n",
    "sht.range('A1:J1').color = '00ccff'\n",
    "sht.range('A1:J1').font.bold = True\n",
    "sht.range('A1:J18').columns.autofit()"
   ]
  },
  {
   "cell_type": "code",
   "execution_count": 81,
   "metadata": {},
   "outputs": [],
   "source": [
    "wb.save()"
   ]
  },
  {
   "cell_type": "markdown",
   "metadata": {},
   "source": [
    "![image.png](screenshots/screen3.jpg)"
   ]
  },
  {
   "attachments": {},
   "cell_type": "markdown",
   "metadata": {},
   "source": [
    "12. Посчитайте количество атрибутов для каждой из сущностей. Создайте лист `Статистика` и запишите в него результат группировки, начиная с ячейки \"А1\". Визуализируйте полученный результат при помощи столбчатой диаграммы. Сохраните полученную визуализацию на лист `Статистика`, начиная с ячейки \"E2\".  Сделайте скриншот листа `Статистика` и прикрепите в ячейку ноутбука.\n",
    "\n",
    "* Вы можете воспользоваться методами для визуализации, которые поставляются вместе с объектами `pandas` (см. https://pandas.pydata.org/docs/reference/api/pandas.DataFrame.plot) "
   ]
  },
  {
   "cell_type": "code",
   "execution_count": 85,
   "metadata": {},
   "outputs": [
    {
     "data": {
      "text/plain": [
       "Таблица\n",
       "recipe    8\n",
       "review    6\n",
       "user      3\n",
       "Name: Атрибут, dtype: int64"
      ]
     },
     "execution_count": 85,
     "metadata": {},
     "output_type": "execute_result"
    }
   ],
   "source": [
    "df_recipes = pd.read_excel('recipes.xlsx', sheet_name=0)\n",
    "\n",
    "stats = df_recipes.groupby('Таблица')['Атрибут'].count()\n",
    "\n",
    "wb = xw.Book(\"recipes.xlsx\")\n",
    "sht = wb.sheets.add(\"Статистика\")\n",
    "sht.range(\"A1\").value = stats\n",
    "stats"
   ]
  },
  {
   "cell_type": "code",
   "execution_count": 49,
   "metadata": {},
   "outputs": [],
   "source": [
    "import matplotlib.pyplot as plt"
   ]
  },
  {
   "cell_type": "code",
   "execution_count": 51,
   "metadata": {},
   "outputs": [
    {
     "data": {
      "text/plain": [
       "Text(0, 0.5, 'Количество аттрибутов')"
      ]
     },
     "execution_count": 51,
     "metadata": {},
     "output_type": "execute_result"
    },
    {
     "data": {
      "image/png": "[encoded data removed]",
      "text/plain": [
       "<Figure size 640x480 with 1 Axes>"
      ]
     },
     "metadata": {},
     "output_type": "display_data"
    }
   ],
   "source": [
    "fig = plt.figure()\n",
    "plt.bar(stats.index, stats.values)\n",
    "plt.xlabel('Таблицы')\n",
    "plt.ylabel('Количество аттрибутов')"
   ]
  },
  {
   "cell_type": "code",
   "execution_count": null,
   "metadata": {},
   "outputs": [],
   "source": [
    "sht.pictures.add(fig, name='Statistics', update=True, left=sht.range('E2').left)"
   ]
  },
  {
   "attachments": {},
   "cell_type": "markdown",
   "metadata": {},
   "source": [
    "![](./таблица_4.png)"
   ]
  }
 ],
 "metadata": {
  "kernelspec": {
   "display_name": "Python 3",
   "language": "python",
   "name": "python3"
  },
  "language_info": {
   "codemirror_mode": {
    "name": "ipython",
    "version": 3
   },
   "file_extension": ".py",
   "mimetype": "text/x-python",
   "name": "python",
   "nbconvert_exporter": "python",
   "pygments_lexer": "ipython3",
   "version": "3.12.2"
  },
  "vscode": {
   "interpreter": {
    "hash": "31f2aee4e71d21fbe5cf8b01ff0e069b9275f58929596ceb00d14d90e3e16cd6"
   }
  }
 },
 "nbformat": 4,
 "nbformat_minor": 4
}
